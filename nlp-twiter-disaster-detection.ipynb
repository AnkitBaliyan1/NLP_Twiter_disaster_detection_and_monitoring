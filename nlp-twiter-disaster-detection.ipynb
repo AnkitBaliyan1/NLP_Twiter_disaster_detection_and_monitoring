{
 "cells": [
  {
   "cell_type": "code",
   "execution_count": 1,
   "id": "3dcc5b67",
   "metadata": {
    "execution": {
     "iopub.execute_input": "2023-06-06T18:06:12.841663Z",
     "iopub.status.busy": "2023-06-06T18:06:12.841253Z",
     "iopub.status.idle": "2023-06-06T18:06:15.890601Z",
     "shell.execute_reply": "2023-06-06T18:06:15.889470Z"
    },
    "papermill": {
     "duration": 3.067967,
     "end_time": "2023-06-06T18:06:15.893659",
     "exception": false,
     "start_time": "2023-06-06T18:06:12.825692",
     "status": "completed"
    },
    "tags": []
   },
   "outputs": [],
   "source": [
    "# handling file data\n",
    "import pandas as pd\n",
    "# handling numerical data\n",
    "import numpy as np\n",
    "# for ploting/visualisation\n",
    "import matplotlib.pyplot as plt\n",
    "import seaborn as sns \n",
    "\n",
    "# importing Natural Language Toolkit\n",
    "import nltk\n",
    "\n",
    "# data pre-processing\n",
    "import re\n",
    "from nltk.corpus import stopwords\n",
    "from nltk.stem import WordNetLemmatizer\n",
    "# split into train and test\n",
    "from sklearn.model_selection import train_test_split\n",
    "# transform data\n",
    "from sklearn.feature_extraction.text import CountVectorizer\n",
    "from sklearn.feature_extraction.text import TfidfVectorizer\n",
    "# feature reduction/\n",
    "from sklearn.decomposition import TruncatedSVD\n",
    "from sklearn.decomposition import PCA\n",
    "# model building\n",
    "from sklearn.linear_model import LogisticRegression\n",
    "from sklearn.tree import DecisionTreeClassifier\n",
    "from sklearn.ensemble import RandomForestClassifier\n",
    "from sklearn import svm\n",
    "from sklearn.naive_bayes import MultinomialNB\n",
    "# model accuracy report\n",
    "from sklearn.metrics import classification_report, confusion_matrix,accuracy_score"
   ]
  },
  {
   "cell_type": "code",
   "execution_count": 2,
   "id": "92b272e2",
   "metadata": {
    "execution": {
     "iopub.execute_input": "2023-06-06T18:06:15.924492Z",
     "iopub.status.busy": "2023-06-06T18:06:15.923833Z",
     "iopub.status.idle": "2023-06-06T18:06:16.052227Z",
     "shell.execute_reply": "2023-06-06T18:06:16.051005Z"
    },
    "papermill": {
     "duration": 0.148721,
     "end_time": "2023-06-06T18:06:16.056185",
     "exception": false,
     "start_time": "2023-06-06T18:06:15.907464",
     "status": "completed"
    },
    "tags": []
   },
   "outputs": [
    {
     "data": {
      "text/plain": [
       "(10876, 5)"
      ]
     },
     "execution_count": 2,
     "metadata": {},
     "output_type": "execute_result"
    }
   ],
   "source": [
    "train = pd.read_csv(\"/kaggle/input/ipba-14-nlp-with-disaster-tweets/train.csv\")\n",
    "test = pd.read_csv(\"/kaggle/input/ipba-14-nlp-with-disaster-tweets/test.csv\")\n",
    "submission = pd.read_csv(\"/kaggle/input/ipba-14-nlp-with-disaster-tweets/sample_sub.csv\")\n",
    "\n",
    "# merging train and test datasets \n",
    "data=pd.concat([train, test], axis=0)\n",
    "data.shape"
   ]
  },
  {
   "cell_type": "markdown",
   "id": "b756349d",
   "metadata": {
    "papermill": {
     "duration": 0.014037,
     "end_time": "2023-06-06T18:06:16.084691",
     "exception": false,
     "start_time": "2023-06-06T18:06:16.070654",
     "status": "completed"
    },
    "tags": []
   },
   "source": [
    "# Check Descriptive Statistics"
   ]
  },
  {
   "cell_type": "code",
   "execution_count": 3,
   "id": "58ae3dd3",
   "metadata": {
    "execution": {
     "iopub.execute_input": "2023-06-06T18:06:16.113329Z",
     "iopub.status.busy": "2023-06-06T18:06:16.112693Z",
     "iopub.status.idle": "2023-06-06T18:06:16.138629Z",
     "shell.execute_reply": "2023-06-06T18:06:16.137699Z"
    },
    "papermill": {
     "duration": 0.043261,
     "end_time": "2023-06-06T18:06:16.141161",
     "exception": false,
     "start_time": "2023-06-06T18:06:16.097900",
     "status": "completed"
    },
    "tags": []
   },
   "outputs": [
    {
     "data": {
      "text/html": [
       "<div>\n",
       "<style scoped>\n",
       "    .dataframe tbody tr th:only-of-type {\n",
       "        vertical-align: middle;\n",
       "    }\n",
       "\n",
       "    .dataframe tbody tr th {\n",
       "        vertical-align: top;\n",
       "    }\n",
       "\n",
       "    .dataframe thead th {\n",
       "        text-align: right;\n",
       "    }\n",
       "</style>\n",
       "<table border=\"1\" class=\"dataframe\">\n",
       "  <thead>\n",
       "    <tr style=\"text-align: right;\">\n",
       "      <th></th>\n",
       "      <th>id</th>\n",
       "      <th>keyword</th>\n",
       "      <th>location</th>\n",
       "      <th>text</th>\n",
       "      <th>target</th>\n",
       "    </tr>\n",
       "  </thead>\n",
       "  <tbody>\n",
       "    <tr>\n",
       "      <th>0</th>\n",
       "      <td>1</td>\n",
       "      <td>NaN</td>\n",
       "      <td>NaN</td>\n",
       "      <td>Our Deeds are the Reason of this #earthquake M...</td>\n",
       "      <td>1.0</td>\n",
       "    </tr>\n",
       "    <tr>\n",
       "      <th>1</th>\n",
       "      <td>4</td>\n",
       "      <td>NaN</td>\n",
       "      <td>NaN</td>\n",
       "      <td>Forest fire near La Ronge Sask. Canada</td>\n",
       "      <td>1.0</td>\n",
       "    </tr>\n",
       "    <tr>\n",
       "      <th>2</th>\n",
       "      <td>5</td>\n",
       "      <td>NaN</td>\n",
       "      <td>NaN</td>\n",
       "      <td>All residents asked to 'shelter in place' are ...</td>\n",
       "      <td>1.0</td>\n",
       "    </tr>\n",
       "    <tr>\n",
       "      <th>3</th>\n",
       "      <td>6</td>\n",
       "      <td>NaN</td>\n",
       "      <td>NaN</td>\n",
       "      <td>13,000 people receive #wildfires evacuation or...</td>\n",
       "      <td>1.0</td>\n",
       "    </tr>\n",
       "    <tr>\n",
       "      <th>4</th>\n",
       "      <td>7</td>\n",
       "      <td>NaN</td>\n",
       "      <td>NaN</td>\n",
       "      <td>Just got sent this photo from Ruby #Alaska as ...</td>\n",
       "      <td>1.0</td>\n",
       "    </tr>\n",
       "  </tbody>\n",
       "</table>\n",
       "</div>"
      ],
      "text/plain": [
       "   id keyword location                                               text  \\\n",
       "0   1     NaN      NaN  Our Deeds are the Reason of this #earthquake M...   \n",
       "1   4     NaN      NaN             Forest fire near La Ronge Sask. Canada   \n",
       "2   5     NaN      NaN  All residents asked to 'shelter in place' are ...   \n",
       "3   6     NaN      NaN  13,000 people receive #wildfires evacuation or...   \n",
       "4   7     NaN      NaN  Just got sent this photo from Ruby #Alaska as ...   \n",
       "\n",
       "   target  \n",
       "0     1.0  \n",
       "1     1.0  \n",
       "2     1.0  \n",
       "3     1.0  \n",
       "4     1.0  "
      ]
     },
     "execution_count": 3,
     "metadata": {},
     "output_type": "execute_result"
    }
   ],
   "source": [
    "data.head()"
   ]
  },
  {
   "cell_type": "code",
   "execution_count": 4,
   "id": "7d70dcce",
   "metadata": {
    "execution": {
     "iopub.execute_input": "2023-06-06T18:06:16.170808Z",
     "iopub.status.busy": "2023-06-06T18:06:16.169582Z",
     "iopub.status.idle": "2023-06-06T18:06:16.203547Z",
     "shell.execute_reply": "2023-06-06T18:06:16.202357Z"
    },
    "papermill": {
     "duration": 0.051911,
     "end_time": "2023-06-06T18:06:16.206371",
     "exception": false,
     "start_time": "2023-06-06T18:06:16.154460",
     "status": "completed"
    },
    "tags": []
   },
   "outputs": [
    {
     "name": "stdout",
     "output_type": "stream",
     "text": [
      "<class 'pandas.core.frame.DataFrame'>\n",
      "Int64Index: 10876 entries, 0 to 3262\n",
      "Data columns (total 5 columns):\n",
      " #   Column    Non-Null Count  Dtype  \n",
      "---  ------    --------------  -----  \n",
      " 0   id        10876 non-null  int64  \n",
      " 1   keyword   10789 non-null  object \n",
      " 2   location  7238 non-null   object \n",
      " 3   text      10876 non-null  object \n",
      " 4   target    7613 non-null   float64\n",
      "dtypes: float64(1), int64(1), object(3)\n",
      "memory usage: 509.8+ KB\n"
     ]
    }
   ],
   "source": [
    "data.info()"
   ]
  },
  {
   "cell_type": "code",
   "execution_count": 5,
   "id": "373465fc",
   "metadata": {
    "execution": {
     "iopub.execute_input": "2023-06-06T18:06:16.236269Z",
     "iopub.status.busy": "2023-06-06T18:06:16.235808Z",
     "iopub.status.idle": "2023-06-06T18:06:16.270968Z",
     "shell.execute_reply": "2023-06-06T18:06:16.269406Z"
    },
    "papermill": {
     "duration": 0.053877,
     "end_time": "2023-06-06T18:06:16.274082",
     "exception": false,
     "start_time": "2023-06-06T18:06:16.220205",
     "status": "completed"
    },
    "tags": []
   },
   "outputs": [
    {
     "data": {
      "text/plain": [
       "id          0.0\n",
       "keyword       0\n",
       "location      0\n",
       "text          0\n",
       "target      0.0\n",
       "dtype: object"
      ]
     },
     "execution_count": 5,
     "metadata": {},
     "output_type": "execute_result"
    }
   ],
   "source": [
    "data[data.isna()].sum()"
   ]
  },
  {
   "cell_type": "code",
   "execution_count": 6,
   "id": "27df93a3",
   "metadata": {
    "execution": {
     "iopub.execute_input": "2023-06-06T18:06:16.305657Z",
     "iopub.status.busy": "2023-06-06T18:06:16.305226Z",
     "iopub.status.idle": "2023-06-06T18:06:16.637258Z",
     "shell.execute_reply": "2023-06-06T18:06:16.635210Z"
    },
    "papermill": {
     "duration": 0.351312,
     "end_time": "2023-06-06T18:06:16.640008",
     "exception": false,
     "start_time": "2023-06-06T18:06:16.288696",
     "status": "completed"
    },
    "tags": []
   },
   "outputs": [
    {
     "name": "stdout",
     "output_type": "stream",
     "text": [
      "0.0    4342\n",
      "1.0    3271\n",
      "Name: target, dtype: int64\n"
     ]
    },
    {
     "data": {
      "image/png": "[encoded data removed]",
      "text/plain": [
       "<Figure size 640x480 with 1 Axes>"
      ]
     },
     "metadata": {},
     "output_type": "display_data"
    }
   ],
   "source": [
    "print(data['target'].value_counts())\n",
    "data['target'].value_counts().plot(kind='bar')\n",
    "plt.show()"
   ]
  },
  {
   "cell_type": "code",
   "execution_count": 7,
   "id": "d124952e",
   "metadata": {
    "execution": {
     "iopub.execute_input": "2023-06-06T18:06:16.674019Z",
     "iopub.status.busy": "2023-06-06T18:06:16.673568Z",
     "iopub.status.idle": "2023-06-06T18:06:16.697650Z",
     "shell.execute_reply": "2023-06-06T18:06:16.695841Z"
    },
    "papermill": {
     "duration": 0.045507,
     "end_time": "2023-06-06T18:06:16.700761",
     "exception": false,
     "start_time": "2023-06-06T18:06:16.655254",
     "status": "completed"
    },
    "tags": []
   },
   "outputs": [
    {
     "name": "stdout",
     "output_type": "stream",
     "text": [
      "Mean length of text when Disaster: 108.11342097217977\n",
      "Mean length of text when No Disaster: 95.70681713496084\n"
     ]
    }
   ],
   "source": [
    "# calculating the length of each document\n",
    "data['length'] = data['text'].apply(lambda x: len(x))\n",
    "print(\"Mean length of text when Disaster:\",data[data['target']==1].length.mean())\n",
    "print(\"Mean length of text when No Disaster:\",data[data['target']==0].length.mean())\n",
    "\n",
    "# Observation: longer tweet when actual disaster"
   ]
  },
  {
   "cell_type": "code",
   "execution_count": 8,
   "id": "11fe55ea",
   "metadata": {
    "execution": {
     "iopub.execute_input": "2023-06-06T18:06:16.733717Z",
     "iopub.status.busy": "2023-06-06T18:06:16.732716Z",
     "iopub.status.idle": "2023-06-06T18:06:16.984195Z",
     "shell.execute_reply": "2023-06-06T18:06:16.982621Z"
    },
    "papermill": {
     "duration": 0.27063,
     "end_time": "2023-06-06T18:06:16.987478",
     "exception": false,
     "start_time": "2023-06-06T18:06:16.716848",
     "status": "completed"
    },
    "tags": []
   },
   "outputs": [
    {
     "name": "stdout",
     "output_type": "stream",
     "text": [
      "Average number of #words in tweeets from Disaster 1.9428238039673278\n",
      "Average number of #words in tweeets from No Disaster 1.9099201824401368\n"
     ]
    }
   ],
   "source": [
    "# #_word vs disaster\n",
    "\n",
    "# filter out the words that starts with #\n",
    "data[\"#word\"] = data['text'].apply(lambda x: list(word for word in x.split() if word[0]=='#'))\n",
    "\n",
    "# count # words in the text column\n",
    "data['number_of_#words']=data['#word'].apply(lambda x: len(x))\n",
    "\n",
    "# check averange numbr of #words in tweet with disaster and not disaster\n",
    "print(\"Average number of #words in tweeets from Disaster\",data[(data['target']==1) & (data['number_of_#words']!=0)]['number_of_#words'].mean())\n",
    "print(\"Average number of #words in tweeets from No Disaster\",data[(data['target']==0) & (data['number_of_#words']!=0)]['number_of_#words'].mean())\n",
    "\n",
    "# Observation: Not much of relation between number of # words used vs disaster"
   ]
  },
  {
   "cell_type": "code",
   "execution_count": 9,
   "id": "0a61c8b0",
   "metadata": {
    "execution": {
     "iopub.execute_input": "2023-06-06T18:06:17.019799Z",
     "iopub.status.busy": "2023-06-06T18:06:17.019394Z",
     "iopub.status.idle": "2023-06-06T18:06:17.039475Z",
     "shell.execute_reply": "2023-06-06T18:06:17.037926Z"
    },
    "papermill": {
     "duration": 0.041383,
     "end_time": "2023-06-06T18:06:17.043020",
     "exception": false,
     "start_time": "2023-06-06T18:06:17.001637",
     "status": "completed"
    },
    "tags": []
   },
   "outputs": [
    {
     "data": {
      "text/html": [
       "<div>\n",
       "<style scoped>\n",
       "    .dataframe tbody tr th:only-of-type {\n",
       "        vertical-align: middle;\n",
       "    }\n",
       "\n",
       "    .dataframe tbody tr th {\n",
       "        vertical-align: top;\n",
       "    }\n",
       "\n",
       "    .dataframe thead th {\n",
       "        text-align: right;\n",
       "    }\n",
       "</style>\n",
       "<table border=\"1\" class=\"dataframe\">\n",
       "  <thead>\n",
       "    <tr style=\"text-align: right;\">\n",
       "      <th></th>\n",
       "      <th>id</th>\n",
       "      <th>keyword</th>\n",
       "      <th>location</th>\n",
       "      <th>text</th>\n",
       "      <th>target</th>\n",
       "      <th>length</th>\n",
       "      <th>#word</th>\n",
       "      <th>number_of_#words</th>\n",
       "    </tr>\n",
       "  </thead>\n",
       "  <tbody>\n",
       "    <tr>\n",
       "      <th>0</th>\n",
       "      <td>1</td>\n",
       "      <td>NaN</td>\n",
       "      <td>NaN</td>\n",
       "      <td>Our Deeds are the Reason of this #earthquake M...</td>\n",
       "      <td>1.0</td>\n",
       "      <td>69</td>\n",
       "      <td>[#earthquake]</td>\n",
       "      <td>1</td>\n",
       "    </tr>\n",
       "    <tr>\n",
       "      <th>1</th>\n",
       "      <td>4</td>\n",
       "      <td>NaN</td>\n",
       "      <td>NaN</td>\n",
       "      <td>Forest fire near La Ronge Sask. Canada</td>\n",
       "      <td>1.0</td>\n",
       "      <td>38</td>\n",
       "      <td>[]</td>\n",
       "      <td>0</td>\n",
       "    </tr>\n",
       "    <tr>\n",
       "      <th>2</th>\n",
       "      <td>5</td>\n",
       "      <td>NaN</td>\n",
       "      <td>NaN</td>\n",
       "      <td>All residents asked to 'shelter in place' are ...</td>\n",
       "      <td>1.0</td>\n",
       "      <td>133</td>\n",
       "      <td>[]</td>\n",
       "      <td>0</td>\n",
       "    </tr>\n",
       "    <tr>\n",
       "      <th>3</th>\n",
       "      <td>6</td>\n",
       "      <td>NaN</td>\n",
       "      <td>NaN</td>\n",
       "      <td>13,000 people receive #wildfires evacuation or...</td>\n",
       "      <td>1.0</td>\n",
       "      <td>65</td>\n",
       "      <td>[#wildfires]</td>\n",
       "      <td>1</td>\n",
       "    </tr>\n",
       "    <tr>\n",
       "      <th>4</th>\n",
       "      <td>7</td>\n",
       "      <td>NaN</td>\n",
       "      <td>NaN</td>\n",
       "      <td>Just got sent this photo from Ruby #Alaska as ...</td>\n",
       "      <td>1.0</td>\n",
       "      <td>88</td>\n",
       "      <td>[#Alaska, #wildfires]</td>\n",
       "      <td>2</td>\n",
       "    </tr>\n",
       "  </tbody>\n",
       "</table>\n",
       "</div>"
      ],
      "text/plain": [
       "   id keyword location                                               text  \\\n",
       "0   1     NaN      NaN  Our Deeds are the Reason of this #earthquake M...   \n",
       "1   4     NaN      NaN             Forest fire near La Ronge Sask. Canada   \n",
       "2   5     NaN      NaN  All residents asked to 'shelter in place' are ...   \n",
       "3   6     NaN      NaN  13,000 people receive #wildfires evacuation or...   \n",
       "4   7     NaN      NaN  Just got sent this photo from Ruby #Alaska as ...   \n",
       "\n",
       "   target  length                  #word  number_of_#words  \n",
       "0     1.0      69          [#earthquake]                 1  \n",
       "1     1.0      38                     []                 0  \n",
       "2     1.0     133                     []                 0  \n",
       "3     1.0      65           [#wildfires]                 1  \n",
       "4     1.0      88  [#Alaska, #wildfires]                 2  "
      ]
     },
     "execution_count": 9,
     "metadata": {},
     "output_type": "execute_result"
    }
   ],
   "source": [
    "data.head()"
   ]
  },
  {
   "cell_type": "markdown",
   "id": "9effea72",
   "metadata": {
    "papermill": {
     "duration": 0.014004,
     "end_time": "2023-06-06T18:06:17.072062",
     "exception": false,
     "start_time": "2023-06-06T18:06:17.058058",
     "status": "completed"
    },
    "tags": []
   },
   "source": [
    "# Perform Punctuation Removal and Convert to Lower Case"
   ]
  },
  {
   "cell_type": "code",
   "execution_count": 10,
   "id": "7d1420e2",
   "metadata": {
    "execution": {
     "iopub.execute_input": "2023-06-06T18:06:17.104216Z",
     "iopub.status.busy": "2023-06-06T18:06:17.103720Z",
     "iopub.status.idle": "2023-06-06T18:06:17.119838Z",
     "shell.execute_reply": "2023-06-06T18:06:17.117954Z"
    },
    "papermill": {
     "duration": 0.036098,
     "end_time": "2023-06-06T18:06:17.122725",
     "exception": false,
     "start_time": "2023-06-06T18:06:17.086627",
     "status": "completed"
    },
    "tags": []
   },
   "outputs": [],
   "source": [
    "# lower case\n",
    "data['text']=data['text'].apply(lambda x: x.lower())"
   ]
  },
  {
   "cell_type": "code",
   "execution_count": 11,
   "id": "99c81d3e",
   "metadata": {
    "execution": {
     "iopub.execute_input": "2023-06-06T18:06:17.154693Z",
     "iopub.status.busy": "2023-06-06T18:06:17.154264Z",
     "iopub.status.idle": "2023-06-06T18:06:17.246995Z",
     "shell.execute_reply": "2023-06-06T18:06:17.245456Z"
    },
    "papermill": {
     "duration": 0.1126,
     "end_time": "2023-06-06T18:06:17.250656",
     "exception": false,
     "start_time": "2023-06-06T18:06:17.138056",
     "status": "completed"
    },
    "tags": []
   },
   "outputs": [
    {
     "data": {
      "text/html": [
       "<div>\n",
       "<style scoped>\n",
       "    .dataframe tbody tr th:only-of-type {\n",
       "        vertical-align: middle;\n",
       "    }\n",
       "\n",
       "    .dataframe tbody tr th {\n",
       "        vertical-align: top;\n",
       "    }\n",
       "\n",
       "    .dataframe thead th {\n",
       "        text-align: right;\n",
       "    }\n",
       "</style>\n",
       "<table border=\"1\" class=\"dataframe\">\n",
       "  <thead>\n",
       "    <tr style=\"text-align: right;\">\n",
       "      <th></th>\n",
       "      <th>id</th>\n",
       "      <th>keyword</th>\n",
       "      <th>location</th>\n",
       "      <th>text</th>\n",
       "      <th>target</th>\n",
       "      <th>length</th>\n",
       "      <th>#word</th>\n",
       "      <th>number_of_#words</th>\n",
       "      <th>processed_text</th>\n",
       "    </tr>\n",
       "  </thead>\n",
       "  <tbody>\n",
       "    <tr>\n",
       "      <th>0</th>\n",
       "      <td>1</td>\n",
       "      <td>NaN</td>\n",
       "      <td>NaN</td>\n",
       "      <td>our deeds are the reason of this #earthquake m...</td>\n",
       "      <td>1.0</td>\n",
       "      <td>69</td>\n",
       "      <td>[#earthquake]</td>\n",
       "      <td>1</td>\n",
       "      <td>our deeds are the reason of this earthquake ma...</td>\n",
       "    </tr>\n",
       "    <tr>\n",
       "      <th>1</th>\n",
       "      <td>4</td>\n",
       "      <td>NaN</td>\n",
       "      <td>NaN</td>\n",
       "      <td>forest fire near la ronge sask. canada</td>\n",
       "      <td>1.0</td>\n",
       "      <td>38</td>\n",
       "      <td>[]</td>\n",
       "      <td>0</td>\n",
       "      <td>forest fire near la ronge sask canada</td>\n",
       "    </tr>\n",
       "    <tr>\n",
       "      <th>2</th>\n",
       "      <td>5</td>\n",
       "      <td>NaN</td>\n",
       "      <td>NaN</td>\n",
       "      <td>all residents asked to 'shelter in place' are ...</td>\n",
       "      <td>1.0</td>\n",
       "      <td>133</td>\n",
       "      <td>[]</td>\n",
       "      <td>0</td>\n",
       "      <td>all residents asked to shelter in place are be...</td>\n",
       "    </tr>\n",
       "    <tr>\n",
       "      <th>3</th>\n",
       "      <td>6</td>\n",
       "      <td>NaN</td>\n",
       "      <td>NaN</td>\n",
       "      <td>13,000 people receive #wildfires evacuation or...</td>\n",
       "      <td>1.0</td>\n",
       "      <td>65</td>\n",
       "      <td>[#wildfires]</td>\n",
       "      <td>1</td>\n",
       "      <td>13000 people receive wildfires evacuation orde...</td>\n",
       "    </tr>\n",
       "    <tr>\n",
       "      <th>4</th>\n",
       "      <td>7</td>\n",
       "      <td>NaN</td>\n",
       "      <td>NaN</td>\n",
       "      <td>just got sent this photo from ruby #alaska as ...</td>\n",
       "      <td>1.0</td>\n",
       "      <td>88</td>\n",
       "      <td>[#Alaska, #wildfires]</td>\n",
       "      <td>2</td>\n",
       "      <td>just got sent this photo from ruby alaska as s...</td>\n",
       "    </tr>\n",
       "  </tbody>\n",
       "</table>\n",
       "</div>"
      ],
      "text/plain": [
       "   id keyword location                                               text  \\\n",
       "0   1     NaN      NaN  our deeds are the reason of this #earthquake m...   \n",
       "1   4     NaN      NaN             forest fire near la ronge sask. canada   \n",
       "2   5     NaN      NaN  all residents asked to 'shelter in place' are ...   \n",
       "3   6     NaN      NaN  13,000 people receive #wildfires evacuation or...   \n",
       "4   7     NaN      NaN  just got sent this photo from ruby #alaska as ...   \n",
       "\n",
       "   target  length                  #word  number_of_#words  \\\n",
       "0     1.0      69          [#earthquake]                 1   \n",
       "1     1.0      38                     []                 0   \n",
       "2     1.0     133                     []                 0   \n",
       "3     1.0      65           [#wildfires]                 1   \n",
       "4     1.0      88  [#Alaska, #wildfires]                 2   \n",
       "\n",
       "                                      processed_text  \n",
       "0  our deeds are the reason of this earthquake ma...  \n",
       "1              forest fire near la ronge sask canada  \n",
       "2  all residents asked to shelter in place are be...  \n",
       "3  13000 people receive wildfires evacuation orde...  \n",
       "4  just got sent this photo from ruby alaska as s...  "
      ]
     },
     "execution_count": 11,
     "metadata": {},
     "output_type": "execute_result"
    }
   ],
   "source": [
    "# special character removeal\n",
    "def remove_special_characters(text):\n",
    "    # Define a list of special characters to remove\n",
    "    special_chars = \"!\\\"#$%&'()*+,-./:;<=>?@[\\]^_`{|}~\"\n",
    "\n",
    "    # Remove special characters using str.translate() method\n",
    "    cleaned_text = text.translate(str.maketrans('', '', special_chars))\n",
    "    return cleaned_text\n",
    "\n",
    "data['processed_text']=data['text'].apply(lambda x: remove_special_characters(x))\n",
    "\n",
    "data.head()"
   ]
  },
  {
   "cell_type": "markdown",
   "id": "2526fe5c",
   "metadata": {
    "papermill": {
     "duration": 0.015276,
     "end_time": "2023-06-06T18:06:17.280758",
     "exception": false,
     "start_time": "2023-06-06T18:06:17.265482",
     "status": "completed"
    },
    "tags": []
   },
   "source": [
    "# \tRemove Stop Words"
   ]
  },
  {
   "cell_type": "code",
   "execution_count": 12,
   "id": "469a29bf",
   "metadata": {
    "execution": {
     "iopub.execute_input": "2023-06-06T18:06:17.312943Z",
     "iopub.status.busy": "2023-06-06T18:06:17.312429Z",
     "iopub.status.idle": "2023-06-06T18:06:17.719050Z",
     "shell.execute_reply": "2023-06-06T18:06:17.718148Z"
    },
    "papermill": {
     "duration": 0.4261,
     "end_time": "2023-06-06T18:06:17.722131",
     "exception": false,
     "start_time": "2023-06-06T18:06:17.296031",
     "status": "completed"
    },
    "tags": []
   },
   "outputs": [
    {
     "data": {
      "text/html": [
       "<div>\n",
       "<style scoped>\n",
       "    .dataframe tbody tr th:only-of-type {\n",
       "        vertical-align: middle;\n",
       "    }\n",
       "\n",
       "    .dataframe tbody tr th {\n",
       "        vertical-align: top;\n",
       "    }\n",
       "\n",
       "    .dataframe thead th {\n",
       "        text-align: right;\n",
       "    }\n",
       "</style>\n",
       "<table border=\"1\" class=\"dataframe\">\n",
       "  <thead>\n",
       "    <tr style=\"text-align: right;\">\n",
       "      <th></th>\n",
       "      <th>id</th>\n",
       "      <th>keyword</th>\n",
       "      <th>location</th>\n",
       "      <th>text</th>\n",
       "      <th>target</th>\n",
       "      <th>length</th>\n",
       "      <th>#word</th>\n",
       "      <th>number_of_#words</th>\n",
       "      <th>processed_text</th>\n",
       "    </tr>\n",
       "  </thead>\n",
       "  <tbody>\n",
       "    <tr>\n",
       "      <th>0</th>\n",
       "      <td>1</td>\n",
       "      <td>NaN</td>\n",
       "      <td>NaN</td>\n",
       "      <td>our deeds are the reason of this #earthquake m...</td>\n",
       "      <td>1.0</td>\n",
       "      <td>69</td>\n",
       "      <td>[#earthquake]</td>\n",
       "      <td>1</td>\n",
       "      <td>deeds reason earthquake may allah forgive us</td>\n",
       "    </tr>\n",
       "    <tr>\n",
       "      <th>1</th>\n",
       "      <td>4</td>\n",
       "      <td>NaN</td>\n",
       "      <td>NaN</td>\n",
       "      <td>forest fire near la ronge sask. canada</td>\n",
       "      <td>1.0</td>\n",
       "      <td>38</td>\n",
       "      <td>[]</td>\n",
       "      <td>0</td>\n",
       "      <td>forest fire near la ronge sask canada</td>\n",
       "    </tr>\n",
       "    <tr>\n",
       "      <th>2</th>\n",
       "      <td>5</td>\n",
       "      <td>NaN</td>\n",
       "      <td>NaN</td>\n",
       "      <td>all residents asked to 'shelter in place' are ...</td>\n",
       "      <td>1.0</td>\n",
       "      <td>133</td>\n",
       "      <td>[]</td>\n",
       "      <td>0</td>\n",
       "      <td>residents asked shelter place notified officer...</td>\n",
       "    </tr>\n",
       "    <tr>\n",
       "      <th>3</th>\n",
       "      <td>6</td>\n",
       "      <td>NaN</td>\n",
       "      <td>NaN</td>\n",
       "      <td>13,000 people receive #wildfires evacuation or...</td>\n",
       "      <td>1.0</td>\n",
       "      <td>65</td>\n",
       "      <td>[#wildfires]</td>\n",
       "      <td>1</td>\n",
       "      <td>13000 people receive wildfires evacuation orde...</td>\n",
       "    </tr>\n",
       "    <tr>\n",
       "      <th>4</th>\n",
       "      <td>7</td>\n",
       "      <td>NaN</td>\n",
       "      <td>NaN</td>\n",
       "      <td>just got sent this photo from ruby #alaska as ...</td>\n",
       "      <td>1.0</td>\n",
       "      <td>88</td>\n",
       "      <td>[#Alaska, #wildfires]</td>\n",
       "      <td>2</td>\n",
       "      <td>got sent photo ruby alaska smoke wildfires pou...</td>\n",
       "    </tr>\n",
       "  </tbody>\n",
       "</table>\n",
       "</div>"
      ],
      "text/plain": [
       "   id keyword location                                               text  \\\n",
       "0   1     NaN      NaN  our deeds are the reason of this #earthquake m...   \n",
       "1   4     NaN      NaN             forest fire near la ronge sask. canada   \n",
       "2   5     NaN      NaN  all residents asked to 'shelter in place' are ...   \n",
       "3   6     NaN      NaN  13,000 people receive #wildfires evacuation or...   \n",
       "4   7     NaN      NaN  just got sent this photo from ruby #alaska as ...   \n",
       "\n",
       "   target  length                  #word  number_of_#words  \\\n",
       "0     1.0      69          [#earthquake]                 1   \n",
       "1     1.0      38                     []                 0   \n",
       "2     1.0     133                     []                 0   \n",
       "3     1.0      65           [#wildfires]                 1   \n",
       "4     1.0      88  [#Alaska, #wildfires]                 2   \n",
       "\n",
       "                                      processed_text  \n",
       "0       deeds reason earthquake may allah forgive us  \n",
       "1              forest fire near la ronge sask canada  \n",
       "2  residents asked shelter place notified officer...  \n",
       "3  13000 people receive wildfires evacuation orde...  \n",
       "4  got sent photo ruby alaska smoke wildfires pou...  "
      ]
     },
     "execution_count": 12,
     "metadata": {},
     "output_type": "execute_result"
    }
   ],
   "source": [
    "# removing stopwords\n",
    "stop= stopwords.words('english')\n",
    "\n",
    "data['processed_text'] = data['processed_text'].apply(lambda x: \" \".join([word for word in x.split() if word not in stop]))\n",
    "\n",
    "data.head()"
   ]
  },
  {
   "cell_type": "code",
   "execution_count": 13,
   "id": "05296e12",
   "metadata": {
    "execution": {
     "iopub.execute_input": "2023-06-06T18:06:17.754724Z",
     "iopub.status.busy": "2023-06-06T18:06:17.754317Z",
     "iopub.status.idle": "2023-06-06T18:06:19.396782Z",
     "shell.execute_reply": "2023-06-06T18:06:19.395502Z"
    },
    "papermill": {
     "duration": 1.661795,
     "end_time": "2023-06-06T18:06:19.399540",
     "exception": false,
     "start_time": "2023-06-06T18:06:17.737745",
     "status": "completed"
    },
    "tags": []
   },
   "outputs": [
    {
     "name": "stdout",
     "output_type": "stream",
     "text": [
      "[nltk_data] Downloading package wordnet2022 to /usr/share/nltk_data...\n",
      "[nltk_data]   Unzipping corpora/wordnet2022.zip.\n"
     ]
    }
   ],
   "source": [
    "# lemmatization\n",
    "nltk.download('wordnet2022')\n",
    "\n",
    "! cp -rf /usr/share/nltk_data/corpora/wordnet2022 /usr/share/nltk_data/corpora/wordnet # temp fix for lookup error."
   ]
  },
  {
   "cell_type": "code",
   "execution_count": 14,
   "id": "f6ecf3cb",
   "metadata": {
    "execution": {
     "iopub.execute_input": "2023-06-06T18:06:19.431719Z",
     "iopub.status.busy": "2023-06-06T18:06:19.431263Z",
     "iopub.status.idle": "2023-06-06T18:06:26.819959Z",
     "shell.execute_reply": "2023-06-06T18:06:26.818677Z"
    },
    "papermill": {
     "duration": 7.407951,
     "end_time": "2023-06-06T18:06:26.822685",
     "exception": false,
     "start_time": "2023-06-06T18:06:19.414734",
     "status": "completed"
    },
    "tags": []
   },
   "outputs": [
    {
     "data": {
      "text/html": [
       "<div>\n",
       "<style scoped>\n",
       "    .dataframe tbody tr th:only-of-type {\n",
       "        vertical-align: middle;\n",
       "    }\n",
       "\n",
       "    .dataframe tbody tr th {\n",
       "        vertical-align: top;\n",
       "    }\n",
       "\n",
       "    .dataframe thead th {\n",
       "        text-align: right;\n",
       "    }\n",
       "</style>\n",
       "<table border=\"1\" class=\"dataframe\">\n",
       "  <thead>\n",
       "    <tr style=\"text-align: right;\">\n",
       "      <th></th>\n",
       "      <th>id</th>\n",
       "      <th>keyword</th>\n",
       "      <th>location</th>\n",
       "      <th>text</th>\n",
       "      <th>target</th>\n",
       "      <th>length</th>\n",
       "      <th>#word</th>\n",
       "      <th>number_of_#words</th>\n",
       "      <th>processed_text</th>\n",
       "    </tr>\n",
       "  </thead>\n",
       "  <tbody>\n",
       "    <tr>\n",
       "      <th>0</th>\n",
       "      <td>1</td>\n",
       "      <td>NaN</td>\n",
       "      <td>NaN</td>\n",
       "      <td>our deeds are the reason of this #earthquake m...</td>\n",
       "      <td>1.0</td>\n",
       "      <td>69</td>\n",
       "      <td>[#earthquake]</td>\n",
       "      <td>1</td>\n",
       "      <td>deed reason earthquake may allah forgive u</td>\n",
       "    </tr>\n",
       "    <tr>\n",
       "      <th>1</th>\n",
       "      <td>4</td>\n",
       "      <td>NaN</td>\n",
       "      <td>NaN</td>\n",
       "      <td>forest fire near la ronge sask. canada</td>\n",
       "      <td>1.0</td>\n",
       "      <td>38</td>\n",
       "      <td>[]</td>\n",
       "      <td>0</td>\n",
       "      <td>forest fire near la ronge sask canada</td>\n",
       "    </tr>\n",
       "    <tr>\n",
       "      <th>2</th>\n",
       "      <td>5</td>\n",
       "      <td>NaN</td>\n",
       "      <td>NaN</td>\n",
       "      <td>all residents asked to 'shelter in place' are ...</td>\n",
       "      <td>1.0</td>\n",
       "      <td>133</td>\n",
       "      <td>[]</td>\n",
       "      <td>0</td>\n",
       "      <td>resident asked shelter place notified officer ...</td>\n",
       "    </tr>\n",
       "    <tr>\n",
       "      <th>3</th>\n",
       "      <td>6</td>\n",
       "      <td>NaN</td>\n",
       "      <td>NaN</td>\n",
       "      <td>13,000 people receive #wildfires evacuation or...</td>\n",
       "      <td>1.0</td>\n",
       "      <td>65</td>\n",
       "      <td>[#wildfires]</td>\n",
       "      <td>1</td>\n",
       "      <td>13000 people receive wildfire evacuation order...</td>\n",
       "    </tr>\n",
       "    <tr>\n",
       "      <th>4</th>\n",
       "      <td>7</td>\n",
       "      <td>NaN</td>\n",
       "      <td>NaN</td>\n",
       "      <td>just got sent this photo from ruby #alaska as ...</td>\n",
       "      <td>1.0</td>\n",
       "      <td>88</td>\n",
       "      <td>[#Alaska, #wildfires]</td>\n",
       "      <td>2</td>\n",
       "      <td>got sent photo ruby alaska smoke wildfire pour...</td>\n",
       "    </tr>\n",
       "  </tbody>\n",
       "</table>\n",
       "</div>"
      ],
      "text/plain": [
       "   id keyword location                                               text  \\\n",
       "0   1     NaN      NaN  our deeds are the reason of this #earthquake m...   \n",
       "1   4     NaN      NaN             forest fire near la ronge sask. canada   \n",
       "2   5     NaN      NaN  all residents asked to 'shelter in place' are ...   \n",
       "3   6     NaN      NaN  13,000 people receive #wildfires evacuation or...   \n",
       "4   7     NaN      NaN  just got sent this photo from ruby #alaska as ...   \n",
       "\n",
       "   target  length                  #word  number_of_#words  \\\n",
       "0     1.0      69          [#earthquake]                 1   \n",
       "1     1.0      38                     []                 0   \n",
       "2     1.0     133                     []                 0   \n",
       "3     1.0      65           [#wildfires]                 1   \n",
       "4     1.0      88  [#Alaska, #wildfires]                 2   \n",
       "\n",
       "                                      processed_text  \n",
       "0         deed reason earthquake may allah forgive u  \n",
       "1              forest fire near la ronge sask canada  \n",
       "2  resident asked shelter place notified officer ...  \n",
       "3  13000 people receive wildfire evacuation order...  \n",
       "4  got sent photo ruby alaska smoke wildfire pour...  "
      ]
     },
     "execution_count": 14,
     "metadata": {},
     "output_type": "execute_result"
    }
   ],
   "source": [
    "# stemming\n",
    "from nltk.stem import PorterStemmer\n",
    "stem = PorterStemmer()\n",
    "data['processed_text'].apply(lambda x: \" \".join([stem.stem(word) for word in x.split()]))\n",
    "\n",
    "# lemmatization\n",
    "lem = WordNetLemmatizer()\n",
    "data['processed_text'] = data['processed_text'].apply(lambda x: \" \".join([lem.lemmatize(word) for word in x.split()]))\n",
    "\n",
    "\n",
    "data.head()"
   ]
  },
  {
   "cell_type": "code",
   "execution_count": 15,
   "id": "f8c2e82e",
   "metadata": {
    "execution": {
     "iopub.execute_input": "2023-06-06T18:06:26.855633Z",
     "iopub.status.busy": "2023-06-06T18:06:26.855204Z",
     "iopub.status.idle": "2023-06-06T18:06:26.887628Z",
     "shell.execute_reply": "2023-06-06T18:06:26.886785Z"
    },
    "papermill": {
     "duration": 0.051914,
     "end_time": "2023-06-06T18:06:26.890184",
     "exception": false,
     "start_time": "2023-06-06T18:06:26.838270",
     "status": "completed"
    },
    "tags": []
   },
   "outputs": [],
   "source": [
    "# Removing URLs from the text\n",
    "def remove_urls(text):\n",
    "    pattern = r'http\\S+'  # Regex pattern to match URLs\n",
    "    cleaned_text = re.sub(pattern, '', text)\n",
    "    return cleaned_text\n",
    "\n",
    "data['processed_text']=data['processed_text'].apply(remove_urls)"
   ]
  },
  {
   "cell_type": "code",
   "execution_count": 16,
   "id": "8e3bb930",
   "metadata": {
    "execution": {
     "iopub.execute_input": "2023-06-06T18:06:26.923862Z",
     "iopub.status.busy": "2023-06-06T18:06:26.922740Z",
     "iopub.status.idle": "2023-06-06T18:06:30.424473Z",
     "shell.execute_reply": "2023-06-06T18:06:30.423215Z"
    },
    "papermill": {
     "duration": 3.521605,
     "end_time": "2023-06-06T18:06:30.427151",
     "exception": false,
     "start_time": "2023-06-06T18:06:26.905546",
     "status": "completed"
    },
    "tags": []
   },
   "outputs": [],
   "source": [
    "df=data.copy()\n",
    "for index, row in df.iterrows():\n",
    "    value = row['keyword']  \n",
    "    \n",
    "    # Check if the value is NaN\n",
    "    if pd.isna(value):\n",
    "        df.at[index, 'keyword'] = '' \n",
    "    \n",
    "    # Check if the value is a string\n",
    "    if isinstance(value, str):\n",
    "        # Convert the string to lowercase\n",
    "        df.at[index, 'keyword'] = value.lower()  \n"
   ]
  },
  {
   "cell_type": "code",
   "execution_count": 17,
   "id": "895b2a2e",
   "metadata": {
    "execution": {
     "iopub.execute_input": "2023-06-06T18:06:30.459626Z",
     "iopub.status.busy": "2023-06-06T18:06:30.459234Z",
     "iopub.status.idle": "2023-06-06T18:06:30.784796Z",
     "shell.execute_reply": "2023-06-06T18:06:30.782869Z"
    },
    "papermill": {
     "duration": 0.345038,
     "end_time": "2023-06-06T18:06:30.787587",
     "exception": false,
     "start_time": "2023-06-06T18:06:30.442549",
     "status": "completed"
    },
    "tags": []
   },
   "outputs": [
    {
     "data": {
      "text/plain": [
       "<Axes: ylabel='Frequency'>"
      ]
     },
     "execution_count": 17,
     "metadata": {},
     "output_type": "execute_result"
    },
    {
     "data": {
      "image/png": "[encoded data removed]",
      "text/plain": [
       "<Figure size 640x480 with 1 Axes>"
      ]
     },
     "metadata": {},
     "output_type": "display_data"
    }
   ],
   "source": [
    "data['keyword'] = df['keyword']\n",
    "data['keyword_length']=data['keyword'].apply(lambda x: len(x))\n",
    "data['keyword_length'].plot(kind='hist')"
   ]
  },
  {
   "cell_type": "markdown",
   "id": "fba18be3",
   "metadata": {
    "papermill": {
     "duration": 0.017208,
     "end_time": "2023-06-06T18:06:30.821920",
     "exception": false,
     "start_time": "2023-06-06T18:06:30.804712",
     "status": "completed"
    },
    "tags": []
   },
   "source": [
    "# Code to perform train & test split"
   ]
  },
  {
   "cell_type": "code",
   "execution_count": 18,
   "id": "accbc46f",
   "metadata": {
    "execution": {
     "iopub.execute_input": "2023-06-06T18:06:30.856122Z",
     "iopub.status.busy": "2023-06-06T18:06:30.855502Z",
     "iopub.status.idle": "2023-06-06T18:06:30.870756Z",
     "shell.execute_reply": "2023-06-06T18:06:30.869323Z"
    },
    "papermill": {
     "duration": 0.03536,
     "end_time": "2023-06-06T18:06:30.873632",
     "exception": false,
     "start_time": "2023-06-06T18:06:30.838272",
     "status": "completed"
    },
    "tags": []
   },
   "outputs": [],
   "source": [
    "# split to original test and train\n",
    "\n",
    "i = train.shape[0]\n",
    "train = data[:i]\n",
    "test = data[i:]\n",
    "\n",
    "# x,y as the independent and dependent variable \n",
    "x=train[['processed_text','length']]\n",
    "y=train['target']\n",
    "test = test[['processed_text','length']]\n",
    "\n",
    "\n",
    "# spliting train and test data\n",
    "x_train,  x_val, y_train, y_val = train_test_split(x,y, test_size=0.2, random_state=42)"
   ]
  },
  {
   "cell_type": "markdown",
   "id": "1a16c284",
   "metadata": {
    "papermill": {
     "duration": 0.016257,
     "end_time": "2023-06-06T18:06:30.905718",
     "exception": false,
     "start_time": "2023-06-06T18:06:30.889461",
     "status": "completed"
    },
    "tags": []
   },
   "source": [
    "# Transform to TF-IDF"
   ]
  },
  {
   "cell_type": "code",
   "execution_count": 19,
   "id": "ab30bff2",
   "metadata": {
    "execution": {
     "iopub.execute_input": "2023-06-06T18:06:30.939171Z",
     "iopub.status.busy": "2023-06-06T18:06:30.938733Z",
     "iopub.status.idle": "2023-06-06T18:06:31.601943Z",
     "shell.execute_reply": "2023-06-06T18:06:31.600836Z"
    },
    "papermill": {
     "duration": 0.683185,
     "end_time": "2023-06-06T18:06:31.604792",
     "exception": false,
     "start_time": "2023-06-06T18:06:30.921607",
     "status": "completed"
    },
    "tags": []
   },
   "outputs": [
    {
     "name": "stdout",
     "output_type": "stream",
     "text": [
      "Feature Extraction using: TfidfVectorizer(max_features=3000)\n"
     ]
    }
   ],
   "source": [
    "# feature extraction \n",
    "\n",
    "def feature_extraction(fe):\n",
    "    print(\"Feature Extraction using:\",fe)\n",
    "    # transforming data\n",
    "    fe.fit(x_train['processed_text'])\n",
    "\n",
    "    x_train_fe = fe.transform(x_train['processed_text']).toarray()\n",
    "    x_val_fe = fe.transform(x_val['processed_text']).toarray()\n",
    "    test_fe = fe.transform(test['processed_text']).toarray()\n",
    "    \n",
    "    return(x_train_fe, x_val_fe, test_fe)\n",
    "\n",
    "\n",
    "max_feature = 3000\n",
    "cv = CountVectorizer(max_features=max_feature)\n",
    "tfidf = TfidfVectorizer(max_features=max_feature)\n",
    "\n",
    "x_train_fe, x_val_fe, test_fe = feature_extraction(tfidf)"
   ]
  },
  {
   "cell_type": "markdown",
   "id": "6c692016",
   "metadata": {
    "papermill": {
     "duration": 0.016106,
     "end_time": "2023-06-06T18:06:31.637157",
     "exception": false,
     "start_time": "2023-06-06T18:06:31.621051",
     "status": "completed"
    },
    "tags": []
   },
   "source": [
    "# Perform PCA (if required)"
   ]
  },
  {
   "cell_type": "code",
   "execution_count": 20,
   "id": "9a22f915",
   "metadata": {
    "execution": {
     "iopub.execute_input": "2023-06-06T18:06:31.671445Z",
     "iopub.status.busy": "2023-06-06T18:06:31.671015Z",
     "iopub.status.idle": "2023-06-06T18:06:34.057729Z",
     "shell.execute_reply": "2023-06-06T18:06:34.056204Z"
    },
    "papermill": {
     "duration": 2.408334,
     "end_time": "2023-06-06T18:06:34.062116",
     "exception": false,
     "start_time": "2023-06-06T18:06:31.653782",
     "status": "completed"
    },
    "tags": []
   },
   "outputs": [
    {
     "name": "stdout",
     "output_type": "stream",
     "text": [
      "Feature Reduction: PCA(n_components=7)\n"
     ]
    }
   ],
   "source": [
    "def reduce_dimension(technique):\n",
    "    print(\"Feature Reduction:\", technique)\n",
    "    technique.fit(x_train_fe)\n",
    "    \n",
    "    x_train_fe_r = technique.transform(x_train_fe)\n",
    "    x_val_fe_r = technique.transform(x_val_fe)\n",
    "\n",
    "    test_fe_r = technique.transform(test_fe)\n",
    "\n",
    "    return( x_train_fe_r, x_val_fe_r, test_fe_r)\n",
    "\n",
    "\n",
    "\n",
    "n=7\n",
    "svd = TruncatedSVD(n_components=n)  # Specify the number of components to keep\n",
    "pca = PCA(n_components=n)\n",
    "\n",
    "x_train_fe_r, x_val_fe_r, test_fe_r = reduce_dimension(pca)\n"
   ]
  },
  {
   "cell_type": "markdown",
   "id": "419fa7af",
   "metadata": {
    "papermill": {
     "duration": 0.032705,
     "end_time": "2023-06-06T18:06:34.128295",
     "exception": false,
     "start_time": "2023-06-06T18:06:34.095590",
     "status": "completed"
    },
    "tags": []
   },
   "source": [
    "# \tWrite a code to build Logistic Regression Model"
   ]
  },
  {
   "cell_type": "code",
   "execution_count": 21,
   "id": "c947bd89",
   "metadata": {
    "execution": {
     "iopub.execute_input": "2023-06-06T18:06:34.186477Z",
     "iopub.status.busy": "2023-06-06T18:06:34.186046Z",
     "iopub.status.idle": "2023-06-06T18:06:34.658585Z",
     "shell.execute_reply": "2023-06-06T18:06:34.657033Z"
    },
    "papermill": {
     "duration": 0.501342,
     "end_time": "2023-06-06T18:06:34.663117",
     "exception": false,
     "start_time": "2023-06-06T18:06:34.161775",
     "status": "completed"
    },
    "tags": []
   },
   "outputs": [
    {
     "name": "stdout",
     "output_type": "stream",
     "text": [
      "classification_report:(Train - LogisticRegression())\n",
      "              precision    recall  f1-score   support\n",
      "\n",
      "         0.0       0.94      0.84      0.89      3882\n",
      "         1.0       0.77      0.91      0.83      2208\n",
      "\n",
      "    accuracy                           0.87      6090\n",
      "   macro avg       0.86      0.88      0.86      6090\n",
      "weighted avg       0.88      0.87      0.87      6090\n",
      "\n",
      "\n",
      " Classification Report: (Validation - LogisticRegression())\n",
      "              precision    recall  f1-score   support\n",
      "\n",
      "         0.0       0.88      0.80      0.84       968\n",
      "         1.0       0.69      0.81      0.75       555\n",
      "\n",
      "    accuracy                           0.80      1523\n",
      "   macro avg       0.79      0.80      0.79      1523\n",
      "weighted avg       0.81      0.80      0.80      1523\n",
      "\n"
     ]
    }
   ],
   "source": [
    "from sklearn.linear_model import LogisticRegression\n",
    "\n",
    "# creating instance\n",
    "lr = LogisticRegression()\n",
    "# training model\n",
    "lr.fit(x_train_fe, y_train)\n",
    "# predicting for training data and validation set\n",
    "lr_pred_train = lr.predict(x_train_fe)\n",
    "lr_pred = lr.predict(x_val_fe)\n",
    "\n",
    "# report:\n",
    "print(f\"classification_report:(Train - {lr})\")\n",
    "print(classification_report(lr_pred_train,y_train))\n",
    "print(f\"\\n Classification Report: (Validation - {lr})\")\n",
    "print(classification_report(lr_pred, y_val))"
   ]
  },
  {
   "cell_type": "markdown",
   "id": "daa2ca18",
   "metadata": {
    "papermill": {
     "duration": 0.021214,
     "end_time": "2023-06-06T18:06:34.718255",
     "exception": false,
     "start_time": "2023-06-06T18:06:34.697041",
     "status": "completed"
    },
    "tags": []
   },
   "source": [
    "# Write a code to build Decision Tree Model"
   ]
  },
  {
   "cell_type": "code",
   "execution_count": 22,
   "id": "8c977bf9",
   "metadata": {
    "execution": {
     "iopub.execute_input": "2023-06-06T18:06:34.751849Z",
     "iopub.status.busy": "2023-06-06T18:06:34.751447Z",
     "iopub.status.idle": "2023-06-06T18:07:11.728685Z",
     "shell.execute_reply": "2023-06-06T18:07:11.727633Z"
    },
    "papermill": {
     "duration": 37.013492,
     "end_time": "2023-06-06T18:07:11.747525",
     "exception": false,
     "start_time": "2023-06-06T18:06:34.734033",
     "status": "completed"
    },
    "tags": []
   },
   "outputs": [
    {
     "name": "stdout",
     "output_type": "stream",
     "text": [
      "classification_report:(Train)\n",
      "              precision    recall  f1-score   support\n",
      "\n",
      "         0.0       1.00      0.98      0.99      3545\n",
      "         1.0       0.97      1.00      0.98      2545\n",
      "\n",
      "    accuracy                           0.98      6090\n",
      "   macro avg       0.98      0.99      0.98      6090\n",
      "weighted avg       0.98      0.98      0.98      6090\n",
      "\n",
      "\n",
      " Classification Report: (Validation)\n",
      "              precision    recall  f1-score   support\n",
      "\n",
      "         0.0       0.72      0.75      0.74       837\n",
      "         1.0       0.68      0.65      0.66       686\n",
      "\n",
      "    accuracy                           0.71      1523\n",
      "   macro avg       0.70      0.70      0.70      1523\n",
      "weighted avg       0.70      0.71      0.70      1523\n",
      "\n"
     ]
    }
   ],
   "source": [
    "from sklearn.tree import DecisionTreeClassifier\n",
    "\n",
    "# creating instance\n",
    "dtc = DecisionTreeClassifier()\n",
    "# training model\n",
    "dtc.fit(x_train_fe, y_train)\n",
    "# predicting for training data and validation set\n",
    "dtc_pred_train = dtc.predict(x_train_fe)\n",
    "dtc_pred = dtc.predict(x_val_fe)\n",
    "\n",
    "# report:\n",
    "print(\"classification_report:(Train)\")\n",
    "print(classification_report(dtc_pred_train,y_train))\n",
    "print(\"\\n Classification Report: (Validation)\")\n",
    "print(classification_report(dtc_pred, y_val))"
   ]
  },
  {
   "cell_type": "markdown",
   "id": "367d14bc",
   "metadata": {
    "papermill": {
     "duration": 0.015756,
     "end_time": "2023-06-06T18:07:11.779654",
     "exception": false,
     "start_time": "2023-06-06T18:07:11.763898",
     "status": "completed"
    },
    "tags": []
   },
   "source": [
    "# Write a code to build Random Forest Model"
   ]
  },
  {
   "cell_type": "code",
   "execution_count": 23,
   "id": "c4744ee3",
   "metadata": {
    "execution": {
     "iopub.execute_input": "2023-06-06T18:07:11.813413Z",
     "iopub.status.busy": "2023-06-06T18:07:11.813024Z",
     "iopub.status.idle": "2023-06-06T18:10:14.103916Z",
     "shell.execute_reply": "2023-06-06T18:10:14.102653Z"
    },
    "papermill": {
     "duration": 182.326209,
     "end_time": "2023-06-06T18:10:14.121895",
     "exception": false,
     "start_time": "2023-06-06T18:07:11.795686",
     "status": "completed"
    },
    "tags": []
   },
   "outputs": [
    {
     "name": "stdout",
     "output_type": "stream",
     "text": [
      "classification_report:(Train)\n",
      "              precision    recall  f1-score   support\n",
      "\n",
      "         0.0       0.99      0.98      0.99      3521\n",
      "         1.0       0.97      0.99      0.98      2569\n",
      "\n",
      "    accuracy                           0.98      6090\n",
      "   macro avg       0.98      0.99      0.98      6090\n",
      "weighted avg       0.98      0.98      0.98      6090\n",
      "\n",
      "Accracy Score: Training set 0.984072249589491\n",
      "\n",
      " Classification Report: (Validation)\n",
      "              precision    recall  f1-score   support\n",
      "\n",
      "         0.0       0.83      0.79      0.81       918\n",
      "         1.0       0.70      0.75      0.72       605\n",
      "\n",
      "    accuracy                           0.77      1523\n",
      "   macro avg       0.76      0.77      0.76      1523\n",
      "weighted avg       0.78      0.77      0.77      1523\n",
      "\n",
      "Accuracy Score: Validation set 0.7715036112934996\n"
     ]
    }
   ],
   "source": [
    "from sklearn.ensemble import RandomForestClassifier\n",
    "\n",
    "# creating instance\n",
    "rfc = RandomForestClassifier(n_estimators=500, random_state=42)\n",
    "# training model\n",
    "rfc.fit(x_train_fe, y_train)\n",
    "# predicting for training data and validation set\n",
    "rfc_pred_train = rfc.predict(x_train_fe)\n",
    "rfc_pred = rfc.predict(x_val_fe)\n",
    "\n",
    "# report:\n",
    "print(\"classification_report:(Train)\")\n",
    "print(classification_report(rfc_pred_train,y_train))\n",
    "print(\"Accracy Score: Training set\",accuracy_score(rfc_pred_train,y_train))\n",
    "print(\"\\n Classification Report: (Validation)\")\n",
    "print(classification_report(rfc_pred, y_val))\n",
    "print(\"Accuracy Score: Validation set\", accuracy_score(rfc_pred, y_val))"
   ]
  },
  {
   "cell_type": "markdown",
   "id": "bbd763ff",
   "metadata": {
    "papermill": {
     "duration": 0.01579,
     "end_time": "2023-06-06T18:10:14.153669",
     "exception": false,
     "start_time": "2023-06-06T18:10:14.137879",
     "status": "completed"
    },
    "tags": []
   },
   "source": [
    "# Choose the best model and build model again"
   ]
  },
  {
   "cell_type": "code",
   "execution_count": 24,
   "id": "7e32b83f",
   "metadata": {
    "execution": {
     "iopub.execute_input": "2023-06-06T18:10:14.187550Z",
     "iopub.status.busy": "2023-06-06T18:10:14.187161Z",
     "iopub.status.idle": "2023-06-06T18:13:08.347673Z",
     "shell.execute_reply": "2023-06-06T18:13:08.346333Z"
    },
    "papermill": {
     "duration": 174.197191,
     "end_time": "2023-06-06T18:13:08.366827",
     "exception": false,
     "start_time": "2023-06-06T18:10:14.169636",
     "status": "completed"
    },
    "tags": []
   },
   "outputs": [
    {
     "name": "stdout",
     "output_type": "stream",
     "text": [
      "classification_report:(Train)\n",
      "              precision    recall  f1-score   support\n",
      "\n",
      "         0.0       0.99      0.93      0.96      3680\n",
      "         1.0       0.90      0.98      0.94      2410\n",
      "\n",
      "    accuracy                           0.95      6090\n",
      "   macro avg       0.94      0.95      0.95      6090\n",
      "weighted avg       0.95      0.95      0.95      6090\n",
      "\n",
      "Accracy Score: Training set 0.9490968801313628\n",
      "\n",
      " Classification Report: (Validation)\n",
      "              precision    recall  f1-score   support\n",
      "\n",
      "         0.0       0.88      0.79      0.83       981\n",
      "         1.0       0.68      0.81      0.74       542\n",
      "\n",
      "    accuracy                           0.80      1523\n",
      "   macro avg       0.78      0.80      0.79      1523\n",
      "weighted avg       0.81      0.80      0.80      1523\n",
      "\n",
      "Accuracy Score: Validation set 0.7957977675640184\n"
     ]
    }
   ],
   "source": [
    "from sklearn import svm\n",
    "\n",
    "# creating instance\n",
    "svm = svm.SVC()\n",
    "# training model\n",
    "svm.fit(x_train_fe, y_train)\n",
    "# predicting for training data and validation set\n",
    "svm_pred_train = svm.predict(x_train_fe)\n",
    "svm_pred = svm.predict(x_val_fe)\n",
    "\n",
    "# report:\n",
    "print(\"classification_report:(Train)\")\n",
    "print(classification_report(svm_pred_train,y_train))\n",
    "print(\"Accracy Score: Training set\",accuracy_score(svm_pred_train,y_train))\n",
    "print(\"\\n Classification Report: (Validation)\")\n",
    "print(classification_report(svm_pred, y_val))\n",
    "print(\"Accuracy Score: Validation set\", accuracy_score(svm_pred, y_val))"
   ]
  },
  {
   "cell_type": "code",
   "execution_count": 25,
   "id": "c222f4d8",
   "metadata": {
    "execution": {
     "iopub.execute_input": "2023-06-06T18:13:08.401520Z",
     "iopub.status.busy": "2023-06-06T18:13:08.400717Z",
     "iopub.status.idle": "2023-06-06T18:13:08.568525Z",
     "shell.execute_reply": "2023-06-06T18:13:08.567429Z"
    },
    "papermill": {
     "duration": 0.189305,
     "end_time": "2023-06-06T18:13:08.572189",
     "exception": false,
     "start_time": "2023-06-06T18:13:08.382884",
     "status": "completed"
    },
    "tags": []
   },
   "outputs": [
    {
     "name": "stdout",
     "output_type": "stream",
     "text": [
      "classification_report:(Train)\n",
      "              precision    recall  f1-score   support\n",
      "\n",
      "         0.0       0.93      0.83      0.88      3904\n",
      "         1.0       0.75      0.89      0.81      2186\n",
      "\n",
      "    accuracy                           0.85      6090\n",
      "   macro avg       0.84      0.86      0.85      6090\n",
      "weighted avg       0.87      0.85      0.86      6090\n",
      "\n",
      "Accracy Score: Training set 0.8528735632183908\n",
      "\n",
      " Classification Report: (Validation)\n",
      "              precision    recall  f1-score   support\n",
      "\n",
      "         0.0       0.88      0.79      0.83       974\n",
      "         1.0       0.68      0.80      0.73       549\n",
      "\n",
      "    accuracy                           0.79      1523\n",
      "   macro avg       0.78      0.79      0.78      1523\n",
      "weighted avg       0.80      0.79      0.79      1523\n",
      "\n",
      "Accuracy Score: Validation set 0.7912015758371634\n"
     ]
    }
   ],
   "source": [
    "# creating instance\n",
    "mnb = MultinomialNB()\n",
    "# training model\n",
    "mnb.fit(x_train_fe, y_train)\n",
    "# predicting for training data and validation set\n",
    "mnb_pred_train = mnb.predict(x_train_fe)\n",
    "mnb_pred = mnb.predict(x_val_fe)\n",
    "\n",
    "# report:\n",
    "print(\"classification_report:(Train)\")\n",
    "print(classification_report(mnb_pred_train,y_train))\n",
    "print(\"Accracy Score: Training set\",accuracy_score(mnb_pred_train,y_train))\n",
    "print(\"\\n Classification Report: (Validation)\")\n",
    "print(classification_report(mnb_pred, y_val))\n",
    "print(\"Accuracy Score: Validation set\", accuracy_score(mnb_pred, y_val))"
   ]
  },
  {
   "cell_type": "code",
   "execution_count": 26,
   "id": "307bd86e",
   "metadata": {
    "execution": {
     "iopub.execute_input": "2023-06-06T18:13:08.629706Z",
     "iopub.status.busy": "2023-06-06T18:13:08.629308Z",
     "iopub.status.idle": "2023-06-06T18:13:08.638311Z",
     "shell.execute_reply": "2023-06-06T18:13:08.637184Z"
    },
    "papermill": {
     "duration": 0.034113,
     "end_time": "2023-06-06T18:13:08.640667",
     "exception": false,
     "start_time": "2023-06-06T18:13:08.606554",
     "status": "completed"
    },
    "tags": []
   },
   "outputs": [],
   "source": [
    "def build_model(model, \n",
    "                x_train= x_train_fe,\n",
    "                x_val=x_val_fe,\n",
    "                x_test=test_fe):\n",
    "    print(\"Model used:\",model)\n",
    "    # training model\n",
    "    model.fit(x_train, y_train)\n",
    "    # predicting for training data and validation set\n",
    "    model_pred_train = model.predict(x_train)\n",
    "    model_pred = model.predict(x_val)\n",
    "    test_pred = model.predict(x_test)\n",
    "\n",
    "    # report:\n",
    "    print(\"classification_report:(Train)\")\n",
    "    print(classification_report(model_pred_train,y_train))\n",
    "    print(\"Accuracy Score:Training\",accuracy_score(model_pred_train,y_train))\n",
    "    print(\"\\n Classification Report: (Validation)\")\n",
    "    print(classification_report(model_pred, y_val))\n",
    "    print(\"Accuracy Score:\",accuracy_score(model_pred, y_val))\n",
    "\n",
    "    return (test_pred)\n",
    "\n",
    "# model train and prediction\n",
    "instance_lr = LogisticRegression()\n",
    "instance_dtc = DecisionTreeClassifier()\n",
    "instance_rfc = RandomForestClassifier(n_estimators=500, random_state=42)\n",
    "#instance_svm = svm.SVC()\n",
    "instance_mnb = MultinomialNB()\n",
    "\n"
   ]
  },
  {
   "cell_type": "code",
   "execution_count": 27,
   "id": "b218eccf",
   "metadata": {
    "execution": {
     "iopub.execute_input": "2023-06-06T18:13:08.675929Z",
     "iopub.status.busy": "2023-06-06T18:13:08.675067Z",
     "iopub.status.idle": "2023-06-06T18:13:11.992785Z",
     "shell.execute_reply": "2023-06-06T18:13:11.991653Z"
    },
    "papermill": {
     "duration": 3.339367,
     "end_time": "2023-06-06T18:13:11.996391",
     "exception": false,
     "start_time": "2023-06-06T18:13:08.657024",
     "status": "completed"
    },
    "tags": []
   },
   "outputs": [
    {
     "name": "stdout",
     "output_type": "stream",
     "text": [
      "Feature Extraction using: TfidfVectorizer(max_features=3000)\n",
      "Feature Reduction: PCA(n_components=7)\n",
      "Building model without frature reduction:\n",
      "Model used: LogisticRegression()\n",
      "classification_report:(Train)\n",
      "              precision    recall  f1-score   support\n",
      "\n",
      "         0.0       0.94      0.84      0.89      3882\n",
      "         1.0       0.77      0.91      0.83      2208\n",
      "\n",
      "    accuracy                           0.87      6090\n",
      "   macro avg       0.86      0.88      0.86      6090\n",
      "weighted avg       0.88      0.87      0.87      6090\n",
      "\n",
      "Accuracy Score:Training 0.8689655172413793\n",
      "\n",
      " Classification Report: (Validation)\n",
      "              precision    recall  f1-score   support\n",
      "\n",
      "         0.0       0.88      0.80      0.84       968\n",
      "         1.0       0.69      0.81      0.75       555\n",
      "\n",
      "    accuracy                           0.80      1523\n",
      "   macro avg       0.79      0.80      0.79      1523\n",
      "weighted avg       0.81      0.80      0.80      1523\n",
      "\n",
      "Accuracy Score: 0.8017071569271176\n",
      "\n",
      "Building model after reducing features:\n",
      "Model used: LogisticRegression()\n",
      "classification_report:(Train)\n",
      "              precision    recall  f1-score   support\n",
      "\n",
      "         0.0       0.93      0.65      0.77      4957\n",
      "         1.0       0.34      0.80      0.48      1133\n",
      "\n",
      "    accuracy                           0.68      6090\n",
      "   macro avg       0.64      0.72      0.62      6090\n",
      "weighted avg       0.82      0.68      0.71      6090\n",
      "\n",
      "Accuracy Score:Training 0.6793103448275862\n",
      "\n",
      " Classification Report: (Validation)\n",
      "              precision    recall  f1-score   support\n",
      "\n",
      "         0.0       0.94      0.66      0.77      1250\n",
      "         1.0       0.34      0.81      0.48       273\n",
      "\n",
      "    accuracy                           0.68      1523\n",
      "   macro avg       0.64      0.73      0.63      1523\n",
      "weighted avg       0.83      0.68      0.72      1523\n",
      "\n",
      "Accuracy Score: 0.6835193696651346\n"
     ]
    }
   ],
   "source": [
    "# Features extraction\n",
    "maxf = 3000\n",
    "cv = CountVectorizer(max_features=maxf)\n",
    "tfidf = TfidfVectorizer(max_features=maxf)\n",
    "x_train_fe, x_val_fe, test_fe = feature_extraction(tfidf)\n",
    "\n",
    "\n",
    "# features reduction\n",
    "n=7\n",
    "svd = TruncatedSVD(n_components=n)  # Specify the number of components to keep\n",
    "pca = PCA(n_components=n)\n",
    "x_train_fe_r, x_val_fe_r, test_fe_r = reduce_dimension(pca)\n",
    "\n",
    "\n",
    "print(\"Building model without frature reduction:\")\n",
    "sub_test_pred = build_model(instance_lr, \n",
    "                        x_train= x_train_fe, \n",
    "                        x_val=x_val_fe, \n",
    "                        x_test=test_fe)\n",
    "\n",
    "print(\"\\nBuilding model after reducing features:\")\n",
    "test_pred = build_model(instance_lr, \n",
    "                        x_train= x_train_fe_r, \n",
    "                        x_val=x_val_fe_r, \n",
    "                        x_test=test_fe_r)\n",
    "\n",
    "\n",
    "# F1 score is lower if dimensionality reduced."
   ]
  },
  {
   "cell_type": "markdown",
   "id": "d5b1f5f1",
   "metadata": {
    "papermill": {
     "duration": 0.023068,
     "end_time": "2023-06-06T18:13:12.054680",
     "exception": false,
     "start_time": "2023-06-06T18:13:12.031612",
     "status": "completed"
    },
    "tags": []
   },
   "source": [
    "# Final model"
   ]
  },
  {
   "cell_type": "code",
   "execution_count": 28,
   "id": "fcd23c21",
   "metadata": {
    "execution": {
     "iopub.execute_input": "2023-06-06T18:13:12.090073Z",
     "iopub.status.busy": "2023-06-06T18:13:12.089698Z",
     "iopub.status.idle": "2023-06-06T18:13:12.108420Z",
     "shell.execute_reply": "2023-06-06T18:13:12.107327Z"
    },
    "papermill": {
     "duration": 0.039276,
     "end_time": "2023-06-06T18:13:12.110774",
     "exception": false,
     "start_time": "2023-06-06T18:13:12.071498",
     "status": "completed"
    },
    "tags": []
   },
   "outputs": [
    {
     "data": {
      "text/html": [
       "<div>\n",
       "<style scoped>\n",
       "    .dataframe tbody tr th:only-of-type {\n",
       "        vertical-align: middle;\n",
       "    }\n",
       "\n",
       "    .dataframe tbody tr th {\n",
       "        vertical-align: top;\n",
       "    }\n",
       "\n",
       "    .dataframe thead th {\n",
       "        text-align: right;\n",
       "    }\n",
       "</style>\n",
       "<table border=\"1\" class=\"dataframe\">\n",
       "  <thead>\n",
       "    <tr style=\"text-align: right;\">\n",
       "      <th></th>\n",
       "      <th>id</th>\n",
       "      <th>keyword</th>\n",
       "      <th>location</th>\n",
       "      <th>text</th>\n",
       "      <th>target</th>\n",
       "      <th>length</th>\n",
       "      <th>#word</th>\n",
       "      <th>number_of_#words</th>\n",
       "      <th>processed_text</th>\n",
       "      <th>keyword_length</th>\n",
       "    </tr>\n",
       "  </thead>\n",
       "  <tbody>\n",
       "    <tr>\n",
       "      <th>0</th>\n",
       "      <td>1</td>\n",
       "      <td></td>\n",
       "      <td>NaN</td>\n",
       "      <td>our deeds are the reason of this #earthquake m...</td>\n",
       "      <td>1.0</td>\n",
       "      <td>69</td>\n",
       "      <td>[#earthquake]</td>\n",
       "      <td>1</td>\n",
       "      <td>deed reason earthquake may allah forgive u</td>\n",
       "      <td>0</td>\n",
       "    </tr>\n",
       "    <tr>\n",
       "      <th>1</th>\n",
       "      <td>4</td>\n",
       "      <td></td>\n",
       "      <td>NaN</td>\n",
       "      <td>forest fire near la ronge sask. canada</td>\n",
       "      <td>1.0</td>\n",
       "      <td>38</td>\n",
       "      <td>[]</td>\n",
       "      <td>0</td>\n",
       "      <td>forest fire near la ronge sask canada</td>\n",
       "      <td>0</td>\n",
       "    </tr>\n",
       "    <tr>\n",
       "      <th>2</th>\n",
       "      <td>5</td>\n",
       "      <td></td>\n",
       "      <td>NaN</td>\n",
       "      <td>all residents asked to 'shelter in place' are ...</td>\n",
       "      <td>1.0</td>\n",
       "      <td>133</td>\n",
       "      <td>[]</td>\n",
       "      <td>0</td>\n",
       "      <td>resident asked shelter place notified officer ...</td>\n",
       "      <td>0</td>\n",
       "    </tr>\n",
       "    <tr>\n",
       "      <th>3</th>\n",
       "      <td>6</td>\n",
       "      <td></td>\n",
       "      <td>NaN</td>\n",
       "      <td>13,000 people receive #wildfires evacuation or...</td>\n",
       "      <td>1.0</td>\n",
       "      <td>65</td>\n",
       "      <td>[#wildfires]</td>\n",
       "      <td>1</td>\n",
       "      <td>13000 people receive wildfire evacuation order...</td>\n",
       "      <td>0</td>\n",
       "    </tr>\n",
       "    <tr>\n",
       "      <th>4</th>\n",
       "      <td>7</td>\n",
       "      <td></td>\n",
       "      <td>NaN</td>\n",
       "      <td>just got sent this photo from ruby #alaska as ...</td>\n",
       "      <td>1.0</td>\n",
       "      <td>88</td>\n",
       "      <td>[#Alaska, #wildfires]</td>\n",
       "      <td>2</td>\n",
       "      <td>got sent photo ruby alaska smoke wildfire pour...</td>\n",
       "      <td>0</td>\n",
       "    </tr>\n",
       "  </tbody>\n",
       "</table>\n",
       "</div>"
      ],
      "text/plain": [
       "   id keyword location                                               text  \\\n",
       "0   1              NaN  our deeds are the reason of this #earthquake m...   \n",
       "1   4              NaN             forest fire near la ronge sask. canada   \n",
       "2   5              NaN  all residents asked to 'shelter in place' are ...   \n",
       "3   6              NaN  13,000 people receive #wildfires evacuation or...   \n",
       "4   7              NaN  just got sent this photo from ruby #alaska as ...   \n",
       "\n",
       "   target  length                  #word  number_of_#words  \\\n",
       "0     1.0      69          [#earthquake]                 1   \n",
       "1     1.0      38                     []                 0   \n",
       "2     1.0     133                     []                 0   \n",
       "3     1.0      65           [#wildfires]                 1   \n",
       "4     1.0      88  [#Alaska, #wildfires]                 2   \n",
       "\n",
       "                                      processed_text  keyword_length  \n",
       "0         deed reason earthquake may allah forgive u               0  \n",
       "1              forest fire near la ronge sask canada               0  \n",
       "2  resident asked shelter place notified officer ...               0  \n",
       "3  13000 people receive wildfire evacuation order...               0  \n",
       "4  got sent photo ruby alaska smoke wildfire pour...               0  "
      ]
     },
     "execution_count": 28,
     "metadata": {},
     "output_type": "execute_result"
    }
   ],
   "source": [
    "data.head()"
   ]
  },
  {
   "cell_type": "code",
   "execution_count": 29,
   "id": "9a8c2193",
   "metadata": {
    "execution": {
     "iopub.execute_input": "2023-06-06T18:13:12.146858Z",
     "iopub.status.busy": "2023-06-06T18:13:12.146480Z",
     "iopub.status.idle": "2023-06-06T18:13:12.152728Z",
     "shell.execute_reply": "2023-06-06T18:13:12.151727Z"
    },
    "papermill": {
     "duration": 0.026794,
     "end_time": "2023-06-06T18:13:12.154785",
     "exception": false,
     "start_time": "2023-06-06T18:13:12.127991",
     "status": "completed"
    },
    "tags": []
   },
   "outputs": [],
   "source": [
    "i = train.shape[0]\n",
    "train = data[:i]\n",
    "test = data[i:]"
   ]
  },
  {
   "cell_type": "code",
   "execution_count": 30,
   "id": "6bf11f6c",
   "metadata": {
    "execution": {
     "iopub.execute_input": "2023-06-06T18:13:12.191627Z",
     "iopub.status.busy": "2023-06-06T18:13:12.190717Z",
     "iopub.status.idle": "2023-06-06T18:13:12.208463Z",
     "shell.execute_reply": "2023-06-06T18:13:12.207328Z"
    },
    "papermill": {
     "duration": 0.039045,
     "end_time": "2023-06-06T18:13:12.210931",
     "exception": false,
     "start_time": "2023-06-06T18:13:12.171886",
     "status": "completed"
    },
    "tags": []
   },
   "outputs": [
    {
     "data": {
      "text/html": [
       "<div>\n",
       "<style scoped>\n",
       "    .dataframe tbody tr th:only-of-type {\n",
       "        vertical-align: middle;\n",
       "    }\n",
       "\n",
       "    .dataframe tbody tr th {\n",
       "        vertical-align: top;\n",
       "    }\n",
       "\n",
       "    .dataframe thead th {\n",
       "        text-align: right;\n",
       "    }\n",
       "</style>\n",
       "<table border=\"1\" class=\"dataframe\">\n",
       "  <thead>\n",
       "    <tr style=\"text-align: right;\">\n",
       "      <th></th>\n",
       "      <th>id</th>\n",
       "      <th>keyword</th>\n",
       "      <th>location</th>\n",
       "      <th>text</th>\n",
       "      <th>target</th>\n",
       "      <th>length</th>\n",
       "      <th>#word</th>\n",
       "      <th>number_of_#words</th>\n",
       "      <th>processed_text</th>\n",
       "      <th>keyword_length</th>\n",
       "    </tr>\n",
       "  </thead>\n",
       "  <tbody>\n",
       "    <tr>\n",
       "      <th>7608</th>\n",
       "      <td>10869</td>\n",
       "      <td></td>\n",
       "      <td>NaN</td>\n",
       "      <td>two giant cranes holding a bridge collapse int...</td>\n",
       "      <td>1.0</td>\n",
       "      <td>83</td>\n",
       "      <td>[]</td>\n",
       "      <td>0</td>\n",
       "      <td>two giant crane holding bridge collapse nearby...</td>\n",
       "      <td>0</td>\n",
       "    </tr>\n",
       "    <tr>\n",
       "      <th>7609</th>\n",
       "      <td>10870</td>\n",
       "      <td></td>\n",
       "      <td>NaN</td>\n",
       "      <td>@aria_ahrary @thetawniest the out of control w...</td>\n",
       "      <td>1.0</td>\n",
       "      <td>125</td>\n",
       "      <td>[]</td>\n",
       "      <td>0</td>\n",
       "      <td>ariaahrary thetawniest control wild fire calif...</td>\n",
       "      <td>0</td>\n",
       "    </tr>\n",
       "    <tr>\n",
       "      <th>7610</th>\n",
       "      <td>10871</td>\n",
       "      <td></td>\n",
       "      <td>NaN</td>\n",
       "      <td>m1.94 [01:04 utc]?5km s of volcano hawaii. htt...</td>\n",
       "      <td>1.0</td>\n",
       "      <td>65</td>\n",
       "      <td>[]</td>\n",
       "      <td>0</td>\n",
       "      <td>m194 0104 utc5km volcano hawaii</td>\n",
       "      <td>0</td>\n",
       "    </tr>\n",
       "    <tr>\n",
       "      <th>7611</th>\n",
       "      <td>10872</td>\n",
       "      <td></td>\n",
       "      <td>NaN</td>\n",
       "      <td>police investigating after an e-bike collided ...</td>\n",
       "      <td>1.0</td>\n",
       "      <td>137</td>\n",
       "      <td>[]</td>\n",
       "      <td>0</td>\n",
       "      <td>police investigating ebike collided car little...</td>\n",
       "      <td>0</td>\n",
       "    </tr>\n",
       "    <tr>\n",
       "      <th>7612</th>\n",
       "      <td>10873</td>\n",
       "      <td></td>\n",
       "      <td>NaN</td>\n",
       "      <td>the latest: more homes razed by northern calif...</td>\n",
       "      <td>1.0</td>\n",
       "      <td>94</td>\n",
       "      <td>[]</td>\n",
       "      <td>0</td>\n",
       "      <td>latest home razed northern california wildfire...</td>\n",
       "      <td>0</td>\n",
       "    </tr>\n",
       "  </tbody>\n",
       "</table>\n",
       "</div>"
      ],
      "text/plain": [
       "         id keyword location  \\\n",
       "7608  10869              NaN   \n",
       "7609  10870              NaN   \n",
       "7610  10871              NaN   \n",
       "7611  10872              NaN   \n",
       "7612  10873              NaN   \n",
       "\n",
       "                                                   text  target  length #word  \\\n",
       "7608  two giant cranes holding a bridge collapse int...     1.0      83    []   \n",
       "7609  @aria_ahrary @thetawniest the out of control w...     1.0     125    []   \n",
       "7610  m1.94 [01:04 utc]?5km s of volcano hawaii. htt...     1.0      65    []   \n",
       "7611  police investigating after an e-bike collided ...     1.0     137    []   \n",
       "7612  the latest: more homes razed by northern calif...     1.0      94    []   \n",
       "\n",
       "      number_of_#words                                     processed_text  \\\n",
       "7608                 0  two giant crane holding bridge collapse nearby...   \n",
       "7609                 0  ariaahrary thetawniest control wild fire calif...   \n",
       "7610                 0                   m194 0104 utc5km volcano hawaii    \n",
       "7611                 0  police investigating ebike collided car little...   \n",
       "7612                 0  latest home razed northern california wildfire...   \n",
       "\n",
       "      keyword_length  \n",
       "7608               0  \n",
       "7609               0  \n",
       "7610               0  \n",
       "7611               0  \n",
       "7612               0  "
      ]
     },
     "execution_count": 30,
     "metadata": {},
     "output_type": "execute_result"
    }
   ],
   "source": [
    "train.tail()"
   ]
  },
  {
   "cell_type": "code",
   "execution_count": 31,
   "id": "e5be389d",
   "metadata": {
    "execution": {
     "iopub.execute_input": "2023-06-06T18:13:12.248334Z",
     "iopub.status.busy": "2023-06-06T18:13:12.247570Z",
     "iopub.status.idle": "2023-06-06T18:13:17.863898Z",
     "shell.execute_reply": "2023-06-06T18:13:17.862459Z"
    },
    "papermill": {
     "duration": 5.639355,
     "end_time": "2023-06-06T18:13:17.868202",
     "exception": false,
     "start_time": "2023-06-06T18:13:12.228847",
     "status": "completed"
    },
    "tags": []
   },
   "outputs": [
    {
     "name": "stderr",
     "output_type": "stream",
     "text": [
      "/opt/conda/lib/python3.10/site-packages/sklearn/linear_model/_logistic.py:458: ConvergenceWarning: lbfgs failed to converge (status=1):\n",
      "STOP: TOTAL NO. of ITERATIONS REACHED LIMIT.\n",
      "\n",
      "Increase the number of iterations (max_iter) or scale the data as shown in:\n",
      "    https://scikit-learn.org/stable/modules/preprocessing.html\n",
      "Please also refer to the documentation for alternative solver options:\n",
      "    https://scikit-learn.org/stable/modules/linear_model.html#logistic-regression\n",
      "  n_iter_i = _check_optimize_result(\n"
     ]
    },
    {
     "name": "stdout",
     "output_type": "stream",
     "text": [
      "Accuracy: 0.8172268907563025\n",
      "              precision    recall  f1-score   support\n",
      "\n",
      "         0.0       0.81      0.90      0.85      1091\n",
      "         1.0       0.84      0.71      0.77       813\n",
      "\n",
      "    accuracy                           0.82      1904\n",
      "   macro avg       0.82      0.80      0.81      1904\n",
      "weighted avg       0.82      0.82      0.81      1904\n",
      "\n"
     ]
    }
   ],
   "source": [
    "# Split the data into features (text and length) and target\n",
    "X = train[['processed_text', 'length','number_of_#words','keyword_length']]\n",
    "y = train['target']\n",
    "test = test[['processed_text','length','number_of_#words','keyword_length']]\n",
    "\n",
    "# Convert text to numerical representation using TF-IDF vectorization\n",
    "vectorizer = TfidfVectorizer(max_features=4800, ngram_range=(1, 3))\n",
    "vectorizer.fit(X['processed_text'])\n",
    "X_text = vectorizer.transform(X['processed_text'])\n",
    "test_text = vectorizer.transform(test['processed_text'])\n",
    "\n",
    "# Combine text and length features\n",
    "X_combined = pd.concat([pd.DataFrame(X_text.toarray()), X[['length','number_of_#words','keyword_length']]], axis=1)\n",
    "test_combined = pd.concat([pd.DataFrame(test_text.toarray()), test[['length','number_of_#words','keyword_length']]], axis=1)\n",
    "\n",
    "# converting column name to string type\n",
    "X_combined.columns = X_combined.columns.astype(str)\n",
    "test_combined.columns = test_combined.columns.astype(str)\n",
    "\n",
    "# Split the data into training and testing sets\n",
    "X_train, X_test, y_train, y_test = train_test_split(X_combined, y, test_size=0.25, random_state=42)\n",
    "\n",
    "# Build and train the logistic regression model\n",
    "model = LogisticRegression()\n",
    "model.fit(X_train, y_train)\n",
    "\n",
    "# Make predictions on the test set\n",
    "y_pred = model.predict(X_test)\n",
    "submission['target']=model.predict(test_combined)\n",
    "\n",
    "# Calculate and print the accuracy of the model\n",
    "accuracy = accuracy_score(y_test, y_pred)\n",
    "print(\"Accuracy:\", accuracy)\n",
    "\n",
    "\n",
    "\n",
    "print(classification_report(y_test, y_pred))"
   ]
  },
  {
   "cell_type": "code",
   "execution_count": 32,
   "id": "ff6f6983",
   "metadata": {
    "execution": {
     "iopub.execute_input": "2023-06-06T18:13:17.945745Z",
     "iopub.status.busy": "2023-06-06T18:13:17.945031Z",
     "iopub.status.idle": "2023-06-06T18:13:17.964929Z",
     "shell.execute_reply": "2023-06-06T18:13:17.964131Z"
    },
    "papermill": {
     "duration": 0.060977,
     "end_time": "2023-06-06T18:13:17.966914",
     "exception": false,
     "start_time": "2023-06-06T18:13:17.905937",
     "status": "completed"
    },
    "tags": []
   },
   "outputs": [
    {
     "name": "stdout",
     "output_type": "stream",
     "text": [
      "0    2088\n",
      "1    1175\n",
      "Name: target, dtype: int64\n"
     ]
    },
    {
     "data": {
      "text/html": [
       "<div>\n",
       "<style scoped>\n",
       "    .dataframe tbody tr th:only-of-type {\n",
       "        vertical-align: middle;\n",
       "    }\n",
       "\n",
       "    .dataframe tbody tr th {\n",
       "        vertical-align: top;\n",
       "    }\n",
       "\n",
       "    .dataframe thead th {\n",
       "        text-align: right;\n",
       "    }\n",
       "</style>\n",
       "<table border=\"1\" class=\"dataframe\">\n",
       "  <thead>\n",
       "    <tr style=\"text-align: right;\">\n",
       "      <th></th>\n",
       "      <th>id</th>\n",
       "      <th>target</th>\n",
       "    </tr>\n",
       "  </thead>\n",
       "  <tbody>\n",
       "    <tr>\n",
       "      <th>0</th>\n",
       "      <td>0</td>\n",
       "      <td>0</td>\n",
       "    </tr>\n",
       "    <tr>\n",
       "      <th>1</th>\n",
       "      <td>2</td>\n",
       "      <td>1</td>\n",
       "    </tr>\n",
       "    <tr>\n",
       "      <th>2</th>\n",
       "      <td>3</td>\n",
       "      <td>1</td>\n",
       "    </tr>\n",
       "    <tr>\n",
       "      <th>3</th>\n",
       "      <td>9</td>\n",
       "      <td>1</td>\n",
       "    </tr>\n",
       "    <tr>\n",
       "      <th>4</th>\n",
       "      <td>11</td>\n",
       "      <td>1</td>\n",
       "    </tr>\n",
       "  </tbody>\n",
       "</table>\n",
       "</div>"
      ],
      "text/plain": [
       "   id  target\n",
       "0   0       0\n",
       "1   2       1\n",
       "2   3       1\n",
       "3   9       1\n",
       "4  11       1"
      ]
     },
     "execution_count": 32,
     "metadata": {},
     "output_type": "execute_result"
    }
   ],
   "source": [
    "submission['target'] = submission['target'].apply(lambda x: round(x))\n",
    "print(submission.target.value_counts())\n",
    "submission.head()"
   ]
  },
  {
   "cell_type": "code",
   "execution_count": 33,
   "id": "dc8423aa",
   "metadata": {
    "execution": {
     "iopub.execute_input": "2023-06-06T18:13:18.004236Z",
     "iopub.status.busy": "2023-06-06T18:13:18.003792Z",
     "iopub.status.idle": "2023-06-06T18:13:18.021764Z",
     "shell.execute_reply": "2023-06-06T18:13:18.020744Z"
    },
    "papermill": {
     "duration": 0.039641,
     "end_time": "2023-06-06T18:13:18.024349",
     "exception": false,
     "start_time": "2023-06-06T18:13:17.984708",
     "status": "completed"
    },
    "tags": []
   },
   "outputs": [],
   "source": [
    "submission.to_csv(\"/kaggle/working/submission.csv\", index=False)"
   ]
  }
 ],
 "metadata": {
  "kernelspec": {
   "display_name": "Python 3",
   "language": "python",
   "name": "python3"
  },
  "language_info": {
   "codemirror_mode": {
    "name": "ipython",
    "version": 3
   },
   "file_extension": ".py",
   "mimetype": "text/x-python",
   "name": "python",
   "nbconvert_exporter": "python",
   "pygments_lexer": "ipython3",
   "version": "3.10.10"
  },
  "papermill": {
   "default_parameters": {},
   "duration": 440.21353,
   "end_time": "2023-06-06T18:13:19.367755",
   "environment_variables": {},
   "exception": null,
   "input_path": "__notebook__.ipynb",
   "output_path": "__notebook__.ipynb",
   "parameters": {},
   "start_time": "2023-06-06T18:05:59.154225",
   "version": "2.4.0"
  }
 },
 "nbformat": 4,
 "nbformat_minor": 5
}
